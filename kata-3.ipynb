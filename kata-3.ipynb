{
 "cells": [
  {
   "cell_type": "markdown",
   "metadata": {},
   "source": [
    "# Alerta de asteroide "
   ]
  },
  {
   "cell_type": "code",
   "execution_count": 1,
   "metadata": {},
   "outputs": [
    {
     "name": "stdout",
     "output_type": "stream",
     "text": [
      "Peligro! ¡Un asteroide se acerca a una velocidad peligrosa de 49 km/s\n"
     ]
    }
   ],
   "source": [
    "asteroide = 49\n",
    "if asteroide > 25:\n",
    "    print(f\"¡Peligro! Un asteroide se acerca a una velocidad peligrosa de {asteroide} km/s ¡Peligro!\")\n",
    "else:\n",
    "    print(\"Todo despejado\")"
   ]
  },
  {
   "cell_type": "code",
   "execution_count": 5,
   "metadata": {},
   "outputs": [
    {
     "name": "stdout",
     "output_type": "stream",
     "text": [
      "¡Alerta! Mira el cielo\n"
     ]
    }
   ],
   "source": [
    "asteroide = 24\n",
    "if asteroide > 20:\n",
    "    print(\"¡Alerta! Mira el cielo\")\n",
    "elif asteroide == 20:\n",
    "    print(\"¡Alerta! Mira el cielo\")\n",
    "else:\n",
    "    print(\"Todo despejado\")"
   ]
  },
  {
   "cell_type": "code",
   "execution_count": 9,
   "metadata": {},
   "outputs": [
    {
     "name": "stdout",
     "output_type": "stream",
     "text": [
      "¡Alerta! Mira el cielo\n"
     ]
    }
   ],
   "source": [
    "velocidad_asteroide = 35\n",
    "diametro_asteroide = 25\n",
    "if velocidad_asteroide > 25 and diametro_asteroide > 25:\n",
    "    print(f\"¡Peligro! Un asteroide se acerca a una velocidad peligrosa de {velocidad_asteroide} km/s con unnn tamaño de {diametro_asteroide} ¡Peligro!\")\n",
    "elif velocidad_asteroide >= 20:\n",
    "    print(\"¡Alerta! Mira el cielo\")\n",
    "elif diametro_asteroide < 25:\n",
    "    print(\"Todo despejado\")\n",
    "else:\n",
    "    print(\"Todo despejado\")"
   ]
  }
 ],
 "metadata": {
  "interpreter": {
   "hash": "31f2aee4e71d21fbe5cf8b01ff0e069b9275f58929596ceb00d14d90e3e16cd6"
  },
  "kernelspec": {
   "display_name": "Python 3.8.9 64-bit",
   "language": "python",
   "name": "python3"
  },
  "language_info": {
   "codemirror_mode": {
    "name": "ipython",
    "version": 3
   },
   "file_extension": ".py",
   "mimetype": "text/x-python",
   "name": "python",
   "nbconvert_exporter": "python",
   "pygments_lexer": "ipython3",
   "version": "3.8.9"
  },
  "orig_nbformat": 4
 },
 "nbformat": 4,
 "nbformat_minor": 2
}
