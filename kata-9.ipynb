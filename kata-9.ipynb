{
 "cells": [
  {
   "cell_type": "markdown",
   "metadata": {},
   "source": [
    "### Ejercicio 1: Trabajar con argumentos en funciones"
   ]
  },
  {
   "cell_type": "code",
   "execution_count": 1,
   "metadata": {},
   "outputs": [
    {
     "name": "stdout",
     "output_type": "stream",
     "text": [
      "\n",
      "Reporte de combustible\n",
      "Promedio Total = 50 %\n",
      "Tanque 1 = 30 %\n",
      "Tanque 2 = 43 %\n",
      "Tanque 3 = 77 %  \n",
      "    \n"
     ]
    }
   ],
   "source": [
    "def reporte_combustible(tanque1, tanque2, tanque3):\n",
    "    promedio= (tanque1 + tanque2 + tanque3)/3\n",
    "    return f'''\n",
    "Reporte de combustible\n",
    "Promedio Total = {round(promedio)} %\n",
    "Tanque 1 = {tanque1} %\n",
    "Tanque 2 = {tanque2} %\n",
    "Tanque 3 = {tanque3} %  \n",
    "    '''\n",
    "    \n",
    "print(reporte_combustible(30, 43, 77))\n"
   ]
  },
  {
   "cell_type": "code",
   "execution_count": 9,
   "metadata": {},
   "outputs": [
    {
     "name": "stdout",
     "output_type": "stream",
     "text": [
      "\n",
      "Reporte de combustible\n",
      "Promedio Total = 50 %\n",
      "Tanque 1 = 30 %\n",
      "Tanque 2 = 43 %\n",
      "Tanque 3 = 77 %  \n",
      "    \n"
     ]
    }
   ],
   "source": [
    "def promedio(*tanques):\n",
    "    return round(sum(tanques) / len(tanques))\n",
    "\n",
    "def reporte_combustible(tanque1, tanque2, tanque3):\n",
    "    return f'''\n",
    "Reporte de combustible\n",
    "Promedio Total = {promedio(tanque1, tanque2, tanque3)} %\n",
    "Tanque 1 = {tanque1} %\n",
    "Tanque 2 = {tanque2} %\n",
    "Tanque 3 = {tanque3} %  \n",
    "    '''\n",
    "print(reporte_combustible(30, 43, 77))"
   ]
  },
  {
   "cell_type": "markdown",
   "metadata": {},
   "source": []
  },
  {
   "cell_type": "code",
   "execution_count": 11,
   "metadata": {},
   "outputs": [
    {
     "name": "stdout",
     "output_type": "stream",
     "text": [
      "\n",
      "Reporte de Misión\n",
      "Misión a Marte \n",
      "Tiempo de viaje 65  minutos\n",
      "Total de combustible 500000 galones\n",
      "\n"
     ]
    }
   ],
   "source": [
    "def informe_mision( hora_prelanzamiento, tiempo_vuelo, destino, tanque_externo, tanque_interno):\n",
    "        return f'''\n",
    "Reporte de Misión\n",
    "Misión a {destino} \n",
    "Tiempo de viaje {hora_prelanzamiento + tiempo_vuelo} minutos\n",
    "Total de combustible {tanque_externo + tanque_interno} galones\n",
    "'''    \n",
    "print(informe_mision(14, 51, \"Marte\", 200000, 300000))"
   ]
  },
  {
   "cell_type": "code",
   "execution_count": 20,
   "metadata": {},
   "outputs": [
    {
     "name": "stdout",
     "output_type": "stream",
     "text": [
      "\n",
      "Reporte de Misión\n",
      "Misión a Marte \n",
      "Tiempo de viaje 88 minutos\n",
      "Total de combustible 500000 galones\n",
      "\n"
     ]
    }
   ],
   "source": [
    "def informe_mision(*tiempo, destino, **tanques):\n",
    "        return f'''\n",
    "Reporte de Misión\n",
    "Misión a {destino} \n",
    "Tiempo de viaje {sum(tiempo)} minutos\n",
    "Total de combustible {sum(tanques.values())} galones\n",
    "'''  \n",
    "    for tanque,cantidad in tanques.items():\n",
    "        print(tanque,cantidad)}\n",
    "print(informe_mision(14, 51,23,  destino = \"Marte\", principal = 200000, externo = 300000))"
   ]
  },
  {
   "cell_type": "code",
   "execution_count": 3,
   "metadata": {},
   "outputs": [
    {
     "name": "stdout",
     "output_type": "stream",
     "text": [
      "\n",
      "Reporte de Misión\n",
      "Misión a Marte \n",
      "Tiempo de viaje 88 minutos\n",
      "Total de combustible 500000 galones\n",
      "El tanque principal  tiene 200000 galones \n",
      "El tanque externo  tiene 300000 galones \n",
      "\n"
     ]
    }
   ],
   "source": [
    "def informe_mision(*tiempo, destino, **tanques):\n",
    "    reporte= f'''\n",
    "Reporte de Misión\n",
    "Misión a {destino} \n",
    "Tiempo de viaje {sum(tiempo)} minutos\n",
    "Total de combustible {sum(tanques.values())} galones\n",
    "'''  \n",
    "    for tanque,cantidad in tanques.items():\n",
    "       reporte += f\"El tanque {tanque}  tiene {cantidad} galones \\n\"\n",
    "    return reporte\n",
    "\n",
    "print(informe_mision(14, 51,23,  destino = \"Marte\", principal = 200000, externo = 300000))"
   ]
  }
 ],
 "metadata": {
  "interpreter": {
   "hash": "31f2aee4e71d21fbe5cf8b01ff0e069b9275f58929596ceb00d14d90e3e16cd6"
  },
  "kernelspec": {
   "display_name": "Python 3.8.9 64-bit",
   "language": "python",
   "name": "python3"
  },
  "language_info": {
   "codemirror_mode": {
    "name": "ipython",
    "version": 3
   },
   "file_extension": ".py",
   "mimetype": "text/x-python",
   "name": "python",
   "nbconvert_exporter": "python",
   "pygments_lexer": "ipython3",
   "version": "3.9.2"
  },
  "orig_nbformat": 4
 },
 "nbformat": 4,
 "nbformat_minor": 2
}
