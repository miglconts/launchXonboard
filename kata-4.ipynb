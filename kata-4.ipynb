{
 "cells": [
  {
   "cell_type": "markdown",
   "metadata": {},
   "source": [
    "# Kata 04 Strings"
   ]
  },
  {
   "cell_type": "code",
   "execution_count": null,
   "metadata": {},
   "outputs": [],
   "source": [
    "text = \"Interesting facts about the Moon. The Moon is Earth's only satellite. There are several interesting facts about the Moon and how it affects life here on Earth. On average, the Moon moves 4cm away from the Earth every year. This yearly drift is not significant enough to cause immediate effects on Earth.\"\n",
    "oraciones= text.split('. ')\n",
    "print(oraciones)"
   ]
  },
  {
   "cell_type": "code",
   "execution_count": null,
   "metadata": {},
   "outputs": [],
   "source": [
    "palabras_clave = \"average\", \"temperature\", \"distance\"\n",
    "for oracion in oraciones:\n",
    "    for palabra_clave in palabras_clave:\n",
    "        if palabra_clave in oracion:\n",
    "            print(oracion)"
   ]
  },
  {
   "cell_type": "code",
   "execution_count": null,
   "metadata": {},
   "outputs": [],
   "source": [
    "for oracion in oraciones:\n",
    "    for palabra_clave in palabras_clave:\n",
    "        if palabra_clave in oracion:\n",
    "            print(oracion.replace('C','Celsius'))"
   ]
  },
  {
   "cell_type": "markdown",
   "metadata": {},
   "source": [
    "## Datos de gravedad"
   ]
  },
  {
   "cell_type": "code",
   "execution_count": 123,
   "metadata": {},
   "outputs": [
    {
     "name": "stdout",
     "output_type": "stream",
     "text": [
      "-----------------------Datos De Gravedad Sobre El Planeta-----------------------\n",
      " --------------------------------------****--------------------------------------\n",
      "Nombre del planeta: Tierra \n",
      "Gravedad en Luna: 1.62 m/s2 \n",
      "\n"
     ]
    }
   ],
   "source": [
    "nombre = \"Luna\"\n",
    "gravedad = 0.00162 # in kms\n",
    "planeta = \"Tierra\"\n",
    "\n",
    "titulo = f'Datos de gravedad sobre el planeta' \n",
    "\n",
    "datos = f\"\"\"{'****':-^80}\n",
    "Nombre del planeta: {planeta} \n",
    "Gravedad en {nombre}: {(gravedad * 1000):.2f} m/s2 \n",
    "\"\"\"\n",
    "plantilla = f'''{titulo.title():-^80}\n",
    " {datos:-^80}''' \n",
    "print(plantilla)\n"
   ]
  },
  {
   "cell_type": "code",
   "execution_count": 129,
   "metadata": {},
   "outputs": [
    {
     "name": "stdout",
     "output_type": "stream",
     "text": [
      "-----------------------Datos De Gravedad Sobre El Planeta-----------------------\n",
      " --------------------------------------****--------------------------------------\n",
      "Nombre del planeta: Marte  \n",
      "Gravedad en Ganímedes: 1.43 m/s2 \n",
      "\n"
     ]
    }
   ],
   "source": [
    "planeta = 'Marte '\n",
    "gravedad  = 0.00143\n",
    "nombre = 'Ganímedes'\n",
    "datos = f\"\"\"{'****':-^80}\n",
    "Nombre del planeta: {planeta} \n",
    "Gravedad en {nombre}: {(gravedad * 1000):.2f} m/s2 \n",
    "\"\"\"\n",
    "nueva_plantilla = f'''{titulo.title():-^80}\n",
    " {datos:-^80}''' \n",
    "\n",
    "print(nueva_plantilla)"
   ]
  }
 ],
 "metadata": {
  "interpreter": {
   "hash": "31f2aee4e71d21fbe5cf8b01ff0e069b9275f58929596ceb00d14d90e3e16cd6"
  },
  "kernelspec": {
   "display_name": "Python 3.8.9 64-bit",
   "language": "python",
   "name": "python3"
  },
  "language_info": {
   "codemirror_mode": {
    "name": "ipython",
    "version": 3
   },
   "file_extension": ".py",
   "mimetype": "text/x-python",
   "name": "python",
   "nbconvert_exporter": "python",
   "pygments_lexer": "ipython3",
   "version": "3.8.9"
  },
  "orig_nbformat": 4
 },
 "nbformat": 4,
 "nbformat_minor": 2
}
