{
 "cells": [
  {
   "cell_type": "markdown",
   "metadata": {},
   "source": [
    "# Operadores aritméticos en Python"
   ]
  },
  {
   "cell_type": "code",
   "execution_count": 11,
   "metadata": {},
   "outputs": [
    {
     "name": "stdout",
     "output_type": "stream",
     "text": [
      "La distancia entre la Tierra y Júpiter es de 628949330 km\n",
      "La distancia entre la Tierra y Júpiter es de 390577533 millas\n"
     ]
    }
   ],
   "source": [
    "import math\n",
    "jupiter = 778547200\n",
    "tierra =  149597870\n",
    "\n",
    "distancia_km =  jupiter - tierra \n",
    "print(f'La distancia entre la Tierra y Júpiter es de {distancia_km} km')\n",
    "\n",
    "distancia_mi = distancia_km * 0.621\n",
    "print(f'La distancia entre la Tierra y Júpiter es de {math.floor(distancia_mi)} millas')"
   ]
  },
  {
   "cell_type": "code",
   "execution_count": 1,
   "metadata": {},
   "outputs": [
    {
     "name": "stdout",
     "output_type": "stream",
     "text": [
      "La distancia entre planetas es de 120012 km\n",
      "La distancia entre planetas es de 74527.452 millas\n"
     ]
    }
   ],
   "source": [
    "planeta_uno = input('Introduzca la distancia del sol para el primer planeta en KM')\n",
    "planeta_dos = input('Introduzca la distancia desde el sol para el segundo planeta en KM')\n",
    "\n",
    "distancia_km =  int(planeta_uno) - int(planeta_dos)\n",
    "print(f'La distancia entre planetas es de {abs(distancia_km)} km')\n",
    "\n",
    "distancia_mi = distancia_km * 0.621\n",
    "print(f'La distancia entre planetas es de {abs(distancia_mi)} millas')\n"
   ]
  }
 ],
 "metadata": {
  "interpreter": {
   "hash": "31f2aee4e71d21fbe5cf8b01ff0e069b9275f58929596ceb00d14d90e3e16cd6"
  },
  "kernelspec": {
   "display_name": "Python 3.8.9 64-bit",
   "language": "python",
   "name": "python3"
  },
  "language_info": {
   "codemirror_mode": {
    "name": "ipython",
    "version": 3
   },
   "file_extension": ".py",
   "mimetype": "text/x-python",
   "name": "python",
   "nbconvert_exporter": "python",
   "pygments_lexer": "ipython3",
   "version": "3.8.9"
  },
  "orig_nbformat": 4
 },
 "nbformat": 4,
 "nbformat_minor": 2
}
