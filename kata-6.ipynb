{
 "cells": [
  {
   "cell_type": "code",
   "execution_count": 8,
   "metadata": {},
   "outputs": [
    {
     "name": "stdout",
     "output_type": "stream",
     "text": [
      "Hay 8 planetas en nuestro sistema solar\n",
      "Pluton es el ultimo planeta\n"
     ]
    }
   ],
   "source": [
    "planetas = ['Mercurio', 'Venus', 'Tierra', 'Marte', 'Jupiter', 'Saturno', 'Urano', 'Neptuno']\n",
    "\n",
    "print(f'Hay {len(planetas)} planetas en nuestro sistema solar')\n",
    "\n",
    "planetas.append('Pluton')\n",
    "\n",
    "print(f'{planetas[-1]} es el ultimo planeta')"
   ]
  },
  {
   "cell_type": "code",
   "execution_count": 9,
   "metadata": {},
   "outputs": [
    {
     "name": "stdout",
     "output_type": "stream",
     "text": [
      "Son los planetas cercanos al sol desde el planeta Marte \n",
      "['Mercurio', 'Venus', 'Tierra']\n",
      "Son los planetas alejados al sol desde el planeta Marte \n",
      "['Jupiter', 'Saturno', 'Urano', 'Neptuno']\n"
     ]
    }
   ],
   "source": [
    "planetas = ['Mercurio', 'Venus', 'Tierra', 'Marte', 'Jupiter', 'Saturno', 'Urano', 'Neptuno']\n",
    "\n",
    "input_planeta = input('Escribe el nombre del planeta(Con Mayúscula al inicio)')\n",
    "index_planeta = planetas.index(input_planeta)\n",
    "\n",
    "print(f'Son los planetas cercanos al sol desde el planeta {input_planeta} ' )\n",
    "print(planetas[0:index_planeta])\n",
    "\n",
    "print(f'Son los planetas alejados al sol desde el planeta {input_planeta} ' )\n",
    "print(planetas[index_planeta+1:len(planetas)])\n"
   ]
  }
 ],
 "metadata": {
  "interpreter": {
   "hash": "31f2aee4e71d21fbe5cf8b01ff0e069b9275f58929596ceb00d14d90e3e16cd6"
  },
  "kernelspec": {
   "display_name": "Python 3.8.9 64-bit",
   "language": "python",
   "name": "python3"
  },
  "language_info": {
   "codemirror_mode": {
    "name": "ipython",
    "version": 3
   },
   "file_extension": ".py",
   "mimetype": "text/x-python",
   "name": "python",
   "nbconvert_exporter": "python",
   "pygments_lexer": "ipython3",
   "version": "3.8.9"
  },
  "orig_nbformat": 4
 },
 "nbformat": 4,
 "nbformat_minor": 2
}
